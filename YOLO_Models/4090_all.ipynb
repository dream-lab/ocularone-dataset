{
 "cells": [
  {
   "cell_type": "code",
   "execution_count": 1,
   "metadata": {},
   "outputs": [],
   "source": [
    "import pandas as pd\n",
    "import numpy as np\n",
    "import seaborn as sns\n",
    "import matplotlib.pyplot as plt"
   ]
  },
  {
   "cell_type": "code",
   "execution_count": 2,
   "metadata": {},
   "outputs": [],
   "source": [
    "plt.rcParams['legend.handlelength'] = 1\n",
    "plt.rcParams['legend.handleheight'] = 1"
   ]
  },
  {
   "cell_type": "code",
   "execution_count": 3,
   "metadata": {},
   "outputs": [
    {
     "name": "stdout",
     "output_type": "stream",
     "text": [
      "==================================================\n",
      "==================================================\n",
      "YOLOv8\n",
      "==================================================\n",
      "==================================================\n",
      "Nano\n",
      "==================================================\n",
      "Max :  4.3065547943115\n",
      "Min :  3.2322406768797998\n",
      "Median :  3.87549400329585\n",
      "90th Percentile:  4.17795181274406\n",
      "95th Percentile:  4.2231082916259\n",
      "99th Percentile:  4.278950691223102\n",
      "==================================================\n",
      "Medium\n",
      "==================================================\n",
      "Max :  7.820606231689399\n",
      "Min :  7.0164203643798\n",
      "Median :  7.55333900451655\n",
      "90th Percentile:  7.7657699584960005\n",
      "95th Percentile:  7.78489112854002\n",
      "99th Percentile:  7.804577350616407\n",
      "==================================================\n",
      "X-Large\n",
      "==================================================\n",
      "Max :  20.2796459197998\n",
      "Min :  19.496202468872\n",
      "Median :  19.971370697021403\n",
      "90th Percentile:  20.032429695129313\n",
      "95th Percentile:  20.047318935394205\n",
      "99th Percentile:  20.125355720519938\n",
      "==================================================\n",
      "==================================================\n",
      "YOLOv11\n",
      "==================================================\n",
      "==================================================\n",
      "Nano\n",
      "==================================================\n",
      "Max :  5.582571029663\n",
      "Min :  4.1496753692626\n",
      "Median :  4.72581386566155\n",
      "90th Percentile:  5.293250083923249\n",
      "95th Percentile:  5.37105798721309\n",
      "99th Percentile:  5.478374958038239\n",
      "==================================================\n",
      "Medium\n",
      "==================================================\n",
      "Max :  7.1227550506591\n",
      "Min :  6.2410831451416\n",
      "Median :  6.7970752716064\n",
      "90th Percentile:  7.01932907104492\n",
      "95th Percentile:  7.058775424957215\n",
      "99th Percentile:  7.08510875701901\n",
      "==================================================\n",
      "X-Large\n",
      "==================================================\n",
      "Max :  15.0489807128906\n",
      "Min :  14.2626762390136\n",
      "Median :  14.7478580474853\n",
      "90th Percentile:  14.853000640869102\n",
      "95th Percentile:  14.873158931732105\n",
      "99th Percentile:  14.908020496368406\n"
     ]
    }
   ],
   "source": [
    "def calculatePercentiles(df, modelName):\n",
    "    print(\"=\"*50)\n",
    "    print(modelName)\n",
    "    print(\"=\"*50)\n",
    "    print(\"Max : \",df['run'].max())\n",
    "    print(\"Min : \",df['run'].min())\n",
    "    print(\"Median : \",df['run'].median())\n",
    "    print(\"90th Percentile: \",df['run'].quantile(0.90))\n",
    "    print(\"95th Percentile: \",df['run'].quantile(0.95))\n",
    "    print(\"99th Percentile: \",df['run'].quantile(0.99))\n",
    "\n",
    "def getModelName(folder):\n",
    "    name = folder.split(\"_\")[1][-1]\n",
    "    if name == \"n\":\n",
    "        name = \"Nano\"\n",
    "    elif name == \"m\":\n",
    "        name = \"Medium\"\n",
    "    elif name == \"x\":\n",
    "        name = \"X-Large\"\n",
    "    return name\n",
    "\n",
    "\n",
    "df_combined=pd.DataFrame()\n",
    "\n",
    "\n",
    "category = \"YOLOv8\"\n",
    "print(\"=\"*50)\n",
    "print(\"=\"*50)\n",
    "print(category)\n",
    "print(\"=\"*50)\n",
    "for folder in [\"scratch_yolov8n_100_epochs\", \"scratch_yolov8m_100_epochs\", \"scratch_yolov8x_100_epochs\"]:\n",
    "    df_temp = pd.read_csv(f\"/home/drone/Downloads/IPDPS/4090_outputs/{category}/{folder}/output_inference_time/resized.csv\")\n",
    "    df_temp['run']*=1000\n",
    "    df_temp = df_temp[df_temp['run'] <= df_temp['run'].quantile(0.99)]\n",
    "    modelName = getModelName(folder)\n",
    "    df_temp[\"model\"] = modelName\n",
    "    df_temp[\"category\"] = category\n",
    "    calculatePercentiles(df_temp, modelName)\n",
    "    df_combined = pd.concat([df_combined, df_temp[[\"run\", \"model\", \"category\"]]])\n",
    "\n",
    "category = \"YOLOv11\"\n",
    "print(\"=\"*50)\n",
    "print(\"=\"*50)\n",
    "print(category)\n",
    "print(\"=\"*50)\n",
    "for folder in [\"scratch_yolov11n_100_epochs\", \"scratch_yolov11m_100_epochs\", \"scratch_yolov11x_100_epochs\"]:\n",
    "    df_temp = pd.read_csv(f\"/home/drone/Downloads/IPDPS/4090_outputs/{category}/{folder}/output_inference_time/resized.csv\")\n",
    "    df_temp['run']*=1000\n",
    "    df_temp = df_temp[df_temp['run'] <= df_temp['run'].quantile(0.99)]\n",
    "    modelName = getModelName(folder)\n",
    "    df_temp[\"model\"] = modelName\n",
    "    df_temp[\"category\"] = category\n",
    "    calculatePercentiles(df_temp, modelName)\n",
    "    df_combined = pd.concat([df_combined, df_temp[[\"run\", \"model\", \"category\"]]])\n",
    "\n",
    "\n",
    "\n",
    "df_combined.reset_index(drop=True, inplace=True)\n",
    "# print(df_combined.head(10))\n",
    "# print(df_combined.tail(10))\n",
    "# print(\"Total rows : \",len(df_combined))"
   ]
  },
  {
   "cell_type": "markdown",
   "metadata": {},
   "source": [
    "### Monodepth"
   ]
  },
  {
   "cell_type": "code",
   "execution_count": 4,
   "metadata": {},
   "outputs": [
    {
     "name": "stdout",
     "output_type": "stream",
     "text": [
      "==================================================\n",
      "Max :  7.379055023193301\n",
      "Min :  5.6118965148925\n",
      "Median :  5.9843063354492\n",
      "90th Percentile:  6.2336921691894\n",
      "95th Percentile:  6.27720355987545\n",
      "99th Percentile:  6.40184879302973\n",
      "==================================================\n"
     ]
    }
   ],
   "source": [
    "def calculatePercentiles(df):\n",
    "    print(\"=\"*50)\n",
    "    print(\"Max : \",df['run'].max())\n",
    "    print(\"Min : \",df['run'].min())\n",
    "    print(\"Median : \",df['run'].median())\n",
    "    print(\"90th Percentile: \",df['run'].quantile(0.90))\n",
    "    print(\"95th Percentile: \",df['run'].quantile(0.95))\n",
    "    print(\"99th Percentile: \",df['run'].quantile(0.99))\n",
    "    print(\"=\"*50)\n",
    "\n",
    "df1=pd.read_csv(\"/home/drone/Downloads/IPDPS/4090_outputs/4090_monodepth_output.csv\")\n",
    "\n",
    "df1['run'] = df1['run_time']*1000\n",
    "\n",
    "# Dropping max value\n",
    "df1=df1.loc[df1['run']!=df1['run'].max()]\n",
    "\n",
    "df1[\"model\"] = \"Monodepth2\"\n",
    "df1[\"category\"] = \"Monodepth2\"\n",
    "\n",
    "calculatePercentiles(df1)\n",
    "\n",
    "df_combined = pd.concat([df_combined, df1[[\"run\", \"model\", \"category\"]]])"
   ]
  },
  {
   "cell_type": "markdown",
   "metadata": {},
   "source": [
    "### Bodypose"
   ]
  },
  {
   "cell_type": "code",
   "execution_count": 5,
   "metadata": {},
   "outputs": [],
   "source": [
    "def calculatePercentiles(df):\n",
    "    print(\"=\"*50)\n",
    "    print(\"Max : \",df['run'].max())\n",
    "    print(\"Min : \",df['run'].min())\n",
    "    print(\"Median : \",df['run'].median())\n",
    "    print(\"90th Percentile: \",df['run'].quantile(0.90))\n",
    "    print(\"95th Percentile: \",df['run'].quantile(0.95))\n",
    "    print(\"99th Percentile: \",df['run'].quantile(0.99))\n",
    "    print(\"=\"*50)"
   ]
  },
  {
   "cell_type": "code",
   "execution_count": 6,
   "metadata": {},
   "outputs": [
    {
     "name": "stdout",
     "output_type": "stream",
     "text": [
      "==================================================\n",
      "Max :  2.9413700103758997\n",
      "Min :  2.1729469299316015\n",
      "Median :  2.2530555725097012\n",
      "90th Percentile:  2.3515224456787003\n",
      "95th Percentile:  2.385735511779751\n",
      "99th Percentile:  2.4366855621337216\n",
      "==================================================\n"
     ]
    }
   ],
   "source": [
    "df1=pd.read_csv(\"/home/drone/Downloads/IPDPS/outputs_bodypose/4090_bodypose_output.csv\")\n",
    "\n",
    "df1['detection_time'] *=1000\n",
    "df1['classifier_time'] *=1000\n",
    "df1['run'] = df1['detection_time'] + df1['classifier_time']\n",
    "\n",
    "# Dropping max value\n",
    "df1=df1.loc[df1['run']!=df1['run'].max()]\n",
    "\n",
    "df1[\"model\"] = \"Bodypose\"\n",
    "df1[\"category\"] = \"Bodypose\"\n",
    "\n",
    "calculatePercentiles(df1)\n",
    "\n",
    "df_combined = pd.concat([df_combined, df1[[\"run\", \"model\", \"category\"]]])"
   ]
  },
  {
   "cell_type": "markdown",
   "metadata": {},
   "source": [
    "### Plotting"
   ]
  },
  {
   "cell_type": "code",
   "execution_count": 7,
   "metadata": {},
   "outputs": [],
   "source": [
    "df_combined.reset_index(drop=True, inplace=True)"
   ]
  },
  {
   "cell_type": "code",
   "execution_count": 8,
   "metadata": {},
   "outputs": [
    {
     "name": "stdout",
     "output_type": "stream",
     "text": [
      "        run model category\n",
      "0  4.279375  Nano   YOLOv8\n",
      "1  3.817797  Nano   YOLOv8\n",
      "2  3.756285  Nano   YOLOv8\n",
      "3  4.068136  Nano   YOLOv8\n",
      "4  4.073858  Nano   YOLOv8\n",
      "5  3.719807  Nano   YOLOv8\n",
      "6  3.898382  Nano   YOLOv8\n",
      "7  4.171848  Nano   YOLOv8\n",
      "8  3.749847  Nano   YOLOv8\n",
      "9  3.724575  Nano   YOLOv8\n"
     ]
    }
   ],
   "source": [
    "print(df_combined.head(10))"
   ]
  },
  {
   "cell_type": "code",
   "execution_count": 9,
   "metadata": {},
   "outputs": [
    {
     "name": "stdout",
     "output_type": "stream",
     "text": [
      "model       category  \n",
      "Bodypose    Bodypose      1191\n",
      "Medium      YOLOv11        990\n",
      "            YOLOv8         990\n",
      "Monodepth2  Monodepth2    1191\n",
      "Nano        YOLOv11        990\n",
      "            YOLOv8         990\n",
      "X-Large     YOLOv11        990\n",
      "            YOLOv8         990\n",
      "dtype: int64\n"
     ]
    }
   ],
   "source": [
    "print(df_combined.groupby([\"model\", \"category\"]).size())"
   ]
  },
  {
   "cell_type": "code",
   "execution_count": 10,
   "metadata": {},
   "outputs": [
    {
     "data": {
      "image/png": "[encoded data removed]",
      "text/plain": [
       "<Figure size 800x400 with 1 Axes>"
      ]
     },
     "metadata": {},
     "output_type": "display_data"
    }
   ],
   "source": [
    "font_size = 16\n",
    "# Create the violin plot\n",
    "plt.figure(figsize=(8, 4))  # Reduce width of figure to make x-ticks closer\n",
    "\n",
    "ax = sns.violinplot(\n",
    "    x='category', \n",
    "    y='run', \n",
    "    hue='model', \n",
    "    data=df_combined, \n",
    "    inner='box', \n",
    "    width=0.5,  # Reduce violin width for tighter spacing\n",
    "    linewidth=0.5,\n",
    "    dodge=False,  \n",
    "    cut=0  # Avoids extending violins beyond data range\n",
    ")\n",
    "\n",
    "# Add a legend\n",
    "plt.legend(loc=\"upper right\", fontsize=16, ncol = 1, borderpad=0.3,\n",
    "           handletextpad=0.1, borderaxespad=0.5, columnspacing=0.5)\n",
    "\n",
    "# Set title and labels\n",
    "plt.ylabel(\"Inference Time (ms)\", fontsize=19)\n",
    "plt.xlabel(\"\", fontsize=font_size)\n",
    "\n",
    "# Customize Y-axis\n",
    "plt.ylim(0, 21)  \n",
    "ax.set_yticks(np.arange(0, 21, 5))\n",
    "ax.tick_params(axis='x', which='minor', bottom=False)\n",
    "ax.yaxis.set_tick_params(labelsize=font_size)\n",
    "ax.xaxis.set_tick_params(labelsize=font_size)\n",
    "\n",
    "# Add grid\n",
    "ax.grid(which='minor', axis='y', linestyle='-', alpha=0.4)\n",
    "ax.grid(which='major', axis='y', linestyle='-', alpha=0.9)\n",
    "plt.minorticks_on()\n",
    "\n",
    "# # Reduce X-tick spacing by manually setting positions\n",
    "xticks = ax.get_xticks()\n",
    "# xticks = [0, 0.8, 1.6]  # Manually set positions\n",
    "# plt.xticks(xticks, ax.get_xticklabels(), rotation=0, ha=\"center\")\n",
    "\n",
    "# 🔹 Add vertical lines between categories\n",
    "for i in range(len(xticks) - 1):\n",
    "    midpoint = (xticks[i] + xticks[i + 1]) / 2\n",
    "    ax.axvline(midpoint, color='black', linestyle='-', alpha=0.5, linewidth=1)\n",
    "\n",
    "# Adjust spacing to make it tighter\n",
    "# plt.subplots_adjust(left=0.05, right=0.95, top=0.95, bottom=0.1)\n",
    "# plt.margins(0.005)\n",
    "\n",
    "# Save and show plot\n",
    "# plt.tight_layout()\n",
    "out_path = \"/home/drone/Downloads/IPDPS/4090_outputs/\"\n",
    "outfile = out_path + \"scratch_yolo_4090_violin_all\"\n",
    "plt.savefig(outfile+\".png\", bbox_inches='tight')\n",
    "plt.savefig(outfile+\".pdf\", format='pdf', bbox_inches='tight', dpi=700)\n",
    "\n",
    "plt.show()"
   ]
  }
 ],
 "metadata": {
  "kernelspec": {
   "display_name": "base",
   "language": "python",
   "name": "python3"
  },
  "language_info": {
   "codemirror_mode": {
    "name": "ipython",
    "version": 3
   },
   "file_extension": ".py",
   "mimetype": "text/x-python",
   "name": "python",
   "nbconvert_exporter": "python",
   "pygments_lexer": "ipython3",
   "version": "3.12.2"
  }
 },
 "nbformat": 4,
 "nbformat_minor": 2
}
